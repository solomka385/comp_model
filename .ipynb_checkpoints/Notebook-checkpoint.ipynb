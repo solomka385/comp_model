{
 "cells": [
  {
   "cell_type": "code",
   "execution_count": 5,
   "id": "2b6cf0f3-ede8-4252-a038-9e7cc142913d",
   "metadata": {},
   "outputs": [
    {
     "data": {
      "text/plain": [
       "'plots\\\\plot_Confusion_Matrix.png'"
      ]
     },
     "execution_count": 5,
     "metadata": {},
     "output_type": "execute_result"
    }
   ],
   "source": [
    "from main import PlotDrawer\n",
    "graph = PlotDrawer()\n",
    "graph.draw_plots(r'deviation.json')"
   ]
  }
 ],
 "metadata": {
  "kernelspec": {
   "display_name": "Python 3 (ipykernel)",
   "language": "python",
   "name": "python3"
  },
  "language_info": {
   "codemirror_mode": {
    "name": "ipython",
    "version": 3
   },
   "file_extension": ".py",
   "mimetype": "text/x-python",
   "name": "python",
   "nbconvert_exporter": "python",
   "pygments_lexer": "ipython3",
   "version": "3.12.2"
  }
 },
 "nbformat": 4,
 "nbformat_minor": 5
}
